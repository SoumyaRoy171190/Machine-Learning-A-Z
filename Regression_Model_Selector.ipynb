{
 "cells": [
  {
   "cell_type": "code",
   "execution_count": 90,
   "metadata": {},
   "outputs": [],
   "source": [
    "import numpy as np\n",
    "import matplotlib.pyplot as plt\n",
    "import pandas as pd\n",
    "from sklearn.model_selection import train_test_split\n",
    "from sklearn.metrics import r2_score\n",
    "from sklearn.linear_model import LinearRegression\n",
    "from sklearn.preprocessing import PolynomialFeatures, StandardScaler\n",
    "from sklearn.svm import SVR\n",
    "from sklearn.tree import DecisionTreeRegressor\n",
    "from sklearn.ensemble import RandomForestRegressor"
   ]
  },
  {
   "cell_type": "code",
   "execution_count": 67,
   "metadata": {},
   "outputs": [],
   "source": [
    "def load_split_data_set(data_path):\n",
    "    df = pd.read_csv(data_path)\n",
    "    X = df.iloc[ : , : -1].values\n",
    "    y = df.iloc[ : , -1].values\n",
    "    y = y.reshape([len(y), 1])\n",
    "    return train_test_split(X, y, test_size = 0.2)"
   ]
  },
  {
   "cell_type": "code",
   "execution_count": 98,
   "metadata": {},
   "outputs": [],
   "source": [
    "def apply_Random_Forest_Regression(data_path):\n",
    "    #loading the train test data and getting after the split\n",
    "    X_train, X_test, y_train, y_test = load_split_data_set(data_path)\n",
    "    \n",
    "    #Training the Model\n",
    "    regressor = RandomForestRegressor(n_estimators = 10, random_state = 0)\n",
    "    regressor.fit(X_train, y_train)\n",
    "    \n",
    "    #Predicting the result\n",
    "    y_pred = regressor.predict(X_test)\n",
    "    np.set_printoptions(precision = 2)\n",
    "    #print(np.concatenate((y_pred.reshape(len(y_pred),1), y_test.reshape(len(y_test),1)),1))\n",
    "    return r2_score(y_test, y_pred)"
   ]
  },
  {
   "cell_type": "code",
   "execution_count": 92,
   "metadata": {},
   "outputs": [],
   "source": [
    "def apply_Decision_Tree_Regression(data_path):\n",
    "    #loading the train test data and getting after the split\n",
    "    X_train, X_test, y_train, y_test = load_split_data_set(data_path)\n",
    "    \n",
    "    #Training the Model\n",
    "    regressor = DecisionTreeRegressor(random_state = 0)\n",
    "    regressor.fit(X_train, y_train)\n",
    "    #Predicting the result\n",
    "    y_pred = regressor.predict(X_test)\n",
    "    \n",
    "    np.set_printoptions(precision = 2)\n",
    "    #print(np.concatenate((y_pred.reshape(len(y_pred),1), y_test.reshape(len(y_test),1)),1))\n",
    "    return r2_score(y_test, y_pred)"
   ]
  },
  {
   "cell_type": "code",
   "execution_count": 93,
   "metadata": {},
   "outputs": [],
   "source": [
    "def apply_SVM_Regression(data_path):\n",
    "    #loading the train test data and getting after the split\n",
    "    X_train, X_test, y_train, y_test = load_split_data_set(data_path)\n",
    "    \n",
    "    #performing Scaling\n",
    "    sc_X = StandardScaler()\n",
    "    sc_y = StandardScaler()\n",
    "    #sc_X_test = StandardScaler()\n",
    "    #sc_y_test = StandardScaler()\n",
    "    \n",
    "    X_train = sc_X.fit_transform(X_train)\n",
    "    X_test = sc_X.fit_transform(X_test)\n",
    "    y_train = sc_y.fit_transform(y_train)\n",
    "    #y_test = sc_y_test.fit_transform(y_test)\n",
    "    \n",
    "    #Fitting the SVR model\n",
    "    regressor = SVR(kernel = 'rbf')\n",
    "    regressor.fit(X_train, y_train)\n",
    "    \n",
    "    y_pred = sc_y.inverse_transform(regressor.predict(X_test))\n",
    "    np.set_printoptions(precision = 2)\n",
    "    #print(np.concatenate((y_pred.reshape(len(y_pred),1), y_test.reshape(len(y_test),1)),1))\n",
    "    return r2_score(y_test, y_pred)"
   ]
  },
  {
   "cell_type": "code",
   "execution_count": 94,
   "metadata": {},
   "outputs": [],
   "source": [
    "def apply_Polinomial_Regression(data_path):\n",
    "    \n",
    "    #loading the train test data and getting after the split\n",
    "    X_train, X_test, y_train, y_test = load_split_data_set(data_path)\n",
    "   \n",
    "    #performing Polynomial Regression\n",
    "    poly_regressor = PolynomialFeatures(degree = 10) #changing this degree value for more accuracy\n",
    "    X_poly = poly_regressor.fit_transform(X_train)\n",
    "    regressor2 = LinearRegression()\n",
    "    #training the model\n",
    "    regressor2.fit(X_poly, y_train)\n",
    "    y_pred = regressor2.predict(poly_regressor.fit_transform(X_test))\n",
    "    np.set_printoptions(precision = 2)\n",
    "    #print(np.concatenate((y_pred.reshape(len(y_pred),1), y_test.reshape(len(y_test),1)),1))\n",
    "    return r2_score(y_test, y_pred)"
   ]
  },
  {
   "cell_type": "code",
   "execution_count": 95,
   "metadata": {},
   "outputs": [],
   "source": [
    "def apply_Multiple_Linear_Regression(data_path):\n",
    "    \n",
    "    #loading the train test data and getting after the split\n",
    "    X_train, X_test, y_train, y_test = load_split_data_set(data_path)\n",
    "    #performing Regression \n",
    "    regressor = LinearRegression()\n",
    "    #training the model\n",
    "    regressor.fit(X_train, y_train)\n",
    "    #predicting the result\n",
    "    y_pred = regressor.predict(X_test)\n",
    "    np.set_printoptions(precision = 2)\n",
    "    #print(np.concatenate((y_pred.reshape(len(y_pred),1), y_test.reshape(len(y_test),1)),1))\n",
    "    return r2_score(y_test, y_pred)"
   ]
  },
  {
   "cell_type": "code",
   "execution_count": 99,
   "metadata": {},
   "outputs": [
    {
     "name": "stdout",
     "output_type": "stream",
     "text": [
      "Mulitple Linear Regression Score :  0.9320630867006717\n",
      "Polynomial Regression Score :  0.9471026172534446\n"
     ]
    },
    {
     "name": "stderr",
     "output_type": "stream",
     "text": [
      "C:\\Users\\Soumya\\anaconda3\\lib\\site-packages\\sklearn\\utils\\validation.py:760: DataConversionWarning: A column-vector y was passed when a 1d array was expected. Please change the shape of y to (n_samples, ), for example using ravel().\n",
      "  y = column_or_1d(y, warn=True)\n"
     ]
    },
    {
     "name": "stdout",
     "output_type": "stream",
     "text": [
      "SVM Regression Score :  0.9457441726385859\n",
      "Decision Tree Score :  0.9336674365633408\n"
     ]
    },
    {
     "name": "stderr",
     "output_type": "stream",
     "text": [
      "C:\\Users\\Soumya\\anaconda3\\lib\\site-packages\\ipykernel_launcher.py:7: DataConversionWarning: A column-vector y was passed when a 1d array was expected. Please change the shape of y to (n_samples,), for example using ravel().\n",
      "  import sys\n"
     ]
    },
    {
     "name": "stdout",
     "output_type": "stream",
     "text": [
      "Random Forest Score :  0.9559081134470805\n"
     ]
    }
   ],
   "source": [
    "data_path = 'D:\\\\Machine-Learning Course\\\\practice\\\\Regression\\\\Regression\\\\Data.csv'\n",
    "print('Mulitple Linear Regression Score : ', apply_Multiple_Linear_Regression(data_path))\n",
    "print('Polynomial Regression Score : ', apply_Polinomial_Regression(data_path))\n",
    "print('SVM Regression Score : ', apply_SVM_Regression(data_path))\n",
    "print('Decision Tree Score : ', apply_Decision_Tree_Regression(data_path))\n",
    "print('Random Forest Score : ', apply_Random_Forest_Regression(data_path))"
   ]
  },
  {
   "cell_type": "code",
   "execution_count": null,
   "metadata": {},
   "outputs": [],
   "source": []
  }
 ],
 "metadata": {
  "kernelspec": {
   "display_name": "Python 3",
   "language": "python",
   "name": "python3"
  },
  "language_info": {
   "codemirror_mode": {
    "name": "ipython",
    "version": 3
   },
   "file_extension": ".py",
   "mimetype": "text/x-python",
   "name": "python",
   "nbconvert_exporter": "python",
   "pygments_lexer": "ipython3",
   "version": "3.7.6"
  }
 },
 "nbformat": 4,
 "nbformat_minor": 4
}
